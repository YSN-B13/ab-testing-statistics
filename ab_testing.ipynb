{
  "cells": [
    {
      "cell_type": "code",
      "execution_count": 13,
      "metadata": {
        "id": "tj6HzNHW40Lo"
      },
      "outputs": [],
      "source": [
        "import pandas as pd\n",
        "import numpy as np\n",
        "import matplotlib.pyplot as plt\n",
        "from scipy.stats import norm\n",
        "import seaborn as sns\n",
        "%matplotlib inline"
      ]
    },
    {
      "cell_type": "markdown",
      "metadata": {
        "id": "oar07snkSaFq"
      },
      "source": [
        "$$\n",
        "\\begin{cases}\n",
        "H_0: P_{con} = P_{exp} \\\\\n",
        "H_1: P_{con} \\neq P_{exp}\n",
        "\\end{cases}\n",
        "$$"
      ]
    },
    {
      "cell_type": "markdown",
      "metadata": {
        "id": "w0vvSA1OVVil"
      },
      "source": [
        "$$\n",
        "\\begin{aligned}\n",
        "\\text{con } = \\text{Control Group} \\\\ \\text{exp } = \\text{Experimental Group}\n",
        "\\end{aligned}\n",
        "$$"
      ]
    },
    {
      "cell_type": "code",
      "execution_count": null,
      "metadata": {
        "id": "-rZf0xD2LPue"
      },
      "outputs": [],
      "source": [
        "# Load The Data From CSV File\n",
        "df_ab_test = pd.read_csv(\"ab_test_click_data.csv\")"
      ]
    },
    {
      "cell_type": "code",
      "execution_count": 15,
      "metadata": {
        "colab": {
          "base_uri": "https://localhost:8080/",
          "height": 206
        },
        "id": "r8eDttWMLYS9",
        "outputId": "9579df69-13c1-4da5-d343-20530c702513"
      },
      "outputs": [
        {
          "data": {
            "application/vnd.google.colaboratory.intrinsic+json": {
              "summary": "{\n  \"name\": \"df_ab_test\",\n  \"rows\": 20000,\n  \"fields\": [\n    {\n      \"column\": \"user_id\",\n      \"properties\": {\n        \"dtype\": \"number\",\n        \"std\": 5773,\n        \"min\": 1,\n        \"max\": 20000,\n        \"num_unique_values\": 20000,\n        \"samples\": [\n          10651,\n          2042,\n          8669\n        ],\n        \"semantic_type\": \"\",\n        \"description\": \"\"\n      }\n    },\n    {\n      \"column\": \"click\",\n      \"properties\": {\n        \"dtype\": \"number\",\n        \"std\": 0,\n        \"min\": 0,\n        \"max\": 1,\n        \"num_unique_values\": 2,\n        \"samples\": [\n          0,\n          1\n        ],\n        \"semantic_type\": \"\",\n        \"description\": \"\"\n      }\n    },\n    {\n      \"column\": \"group\",\n      \"properties\": {\n        \"dtype\": \"category\",\n        \"num_unique_values\": 2,\n        \"samples\": [\n          \"con\",\n          \"exp\"\n        ],\n        \"semantic_type\": \"\",\n        \"description\": \"\"\n      }\n    },\n    {\n      \"column\": \"timestamp\",\n      \"properties\": {\n        \"dtype\": \"object\",\n        \"num_unique_values\": 10000,\n        \"samples\": [\n          \"2024-01-05 08:12:00\",\n          \"2024-01-04 06:04:00\"\n        ],\n        \"semantic_type\": \"\",\n        \"description\": \"\"\n      }\n    }\n  ]\n}",
              "type": "dataframe",
              "variable_name": "df_ab_test"
            },
            "text/html": [
              "\n",
              "  <div id=\"df-90f2f25a-3a4c-4c0b-bfda-b3d5d39f2657\" class=\"colab-df-container\">\n",
              "    <div>\n",
              "<style scoped>\n",
              "    .dataframe tbody tr th:only-of-type {\n",
              "        vertical-align: middle;\n",
              "    }\n",
              "\n",
              "    .dataframe tbody tr th {\n",
              "        vertical-align: top;\n",
              "    }\n",
              "\n",
              "    .dataframe thead th {\n",
              "        text-align: right;\n",
              "    }\n",
              "</style>\n",
              "<table border=\"1\" class=\"dataframe\">\n",
              "  <thead>\n",
              "    <tr style=\"text-align: right;\">\n",
              "      <th></th>\n",
              "      <th>user_id</th>\n",
              "      <th>click</th>\n",
              "      <th>group</th>\n",
              "      <th>timestamp</th>\n",
              "    </tr>\n",
              "  </thead>\n",
              "  <tbody>\n",
              "    <tr>\n",
              "      <th>0</th>\n",
              "      <td>1</td>\n",
              "      <td>1</td>\n",
              "      <td>exp</td>\n",
              "      <td>2024-01-01 00:00:00</td>\n",
              "    </tr>\n",
              "    <tr>\n",
              "      <th>1</th>\n",
              "      <td>2</td>\n",
              "      <td>0</td>\n",
              "      <td>exp</td>\n",
              "      <td>2024-01-01 00:01:00</td>\n",
              "    </tr>\n",
              "    <tr>\n",
              "      <th>2</th>\n",
              "      <td>3</td>\n",
              "      <td>1</td>\n",
              "      <td>exp</td>\n",
              "      <td>2024-01-01 00:02:00</td>\n",
              "    </tr>\n",
              "    <tr>\n",
              "      <th>3</th>\n",
              "      <td>4</td>\n",
              "      <td>0</td>\n",
              "      <td>exp</td>\n",
              "      <td>2024-01-01 00:03:00</td>\n",
              "    </tr>\n",
              "    <tr>\n",
              "      <th>4</th>\n",
              "      <td>5</td>\n",
              "      <td>1</td>\n",
              "      <td>exp</td>\n",
              "      <td>2024-01-01 00:04:00</td>\n",
              "    </tr>\n",
              "  </tbody>\n",
              "</table>\n",
              "</div>\n",
              "    <div class=\"colab-df-buttons\">\n",
              "\n",
              "  <div class=\"colab-df-container\">\n",
              "    <button class=\"colab-df-convert\" onclick=\"convertToInteractive('df-90f2f25a-3a4c-4c0b-bfda-b3d5d39f2657')\"\n",
              "            title=\"Convert this dataframe to an interactive table.\"\n",
              "            style=\"display:none;\">\n",
              "\n",
              "  <svg xmlns=\"http://www.w3.org/2000/svg\" height=\"24px\" viewBox=\"0 -960 960 960\">\n",
              "    <path d=\"M120-120v-720h720v720H120Zm60-500h600v-160H180v160Zm220 220h160v-160H400v160Zm0 220h160v-160H400v160ZM180-400h160v-160H180v160Zm440 0h160v-160H620v160ZM180-180h160v-160H180v160Zm440 0h160v-160H620v160Z\"/>\n",
              "  </svg>\n",
              "    </button>\n",
              "\n",
              "  <style>\n",
              "    .colab-df-container {\n",
              "      display:flex;\n",
              "      gap: 12px;\n",
              "    }\n",
              "\n",
              "    .colab-df-convert {\n",
              "      background-color: #E8F0FE;\n",
              "      border: none;\n",
              "      border-radius: 50%;\n",
              "      cursor: pointer;\n",
              "      display: none;\n",
              "      fill: #1967D2;\n",
              "      height: 32px;\n",
              "      padding: 0 0 0 0;\n",
              "      width: 32px;\n",
              "    }\n",
              "\n",
              "    .colab-df-convert:hover {\n",
              "      background-color: #E2EBFA;\n",
              "      box-shadow: 0px 1px 2px rgba(60, 64, 67, 0.3), 0px 1px 3px 1px rgba(60, 64, 67, 0.15);\n",
              "      fill: #174EA6;\n",
              "    }\n",
              "\n",
              "    .colab-df-buttons div {\n",
              "      margin-bottom: 4px;\n",
              "    }\n",
              "\n",
              "    [theme=dark] .colab-df-convert {\n",
              "      background-color: #3B4455;\n",
              "      fill: #D2E3FC;\n",
              "    }\n",
              "\n",
              "    [theme=dark] .colab-df-convert:hover {\n",
              "      background-color: #434B5C;\n",
              "      box-shadow: 0px 1px 3px 1px rgba(0, 0, 0, 0.15);\n",
              "      filter: drop-shadow(0px 1px 2px rgba(0, 0, 0, 0.3));\n",
              "      fill: #FFFFFF;\n",
              "    }\n",
              "  </style>\n",
              "\n",
              "    <script>\n",
              "      const buttonEl =\n",
              "        document.querySelector('#df-90f2f25a-3a4c-4c0b-bfda-b3d5d39f2657 button.colab-df-convert');\n",
              "      buttonEl.style.display =\n",
              "        google.colab.kernel.accessAllowed ? 'block' : 'none';\n",
              "\n",
              "      async function convertToInteractive(key) {\n",
              "        const element = document.querySelector('#df-90f2f25a-3a4c-4c0b-bfda-b3d5d39f2657');\n",
              "        const dataTable =\n",
              "          await google.colab.kernel.invokeFunction('convertToInteractive',\n",
              "                                                    [key], {});\n",
              "        if (!dataTable) return;\n",
              "\n",
              "        const docLinkHtml = 'Like what you see? Visit the ' +\n",
              "          '<a target=\"_blank\" href=https://colab.research.google.com/notebooks/data_table.ipynb>data table notebook</a>'\n",
              "          + ' to learn more about interactive tables.';\n",
              "        element.innerHTML = '';\n",
              "        dataTable['output_type'] = 'display_data';\n",
              "        await google.colab.output.renderOutput(dataTable, element);\n",
              "        const docLink = document.createElement('div');\n",
              "        docLink.innerHTML = docLinkHtml;\n",
              "        element.appendChild(docLink);\n",
              "      }\n",
              "    </script>\n",
              "  </div>\n",
              "\n",
              "\n",
              "    <div id=\"df-691d6321-4f19-4ab4-a8c3-120405d7ea62\">\n",
              "      <button class=\"colab-df-quickchart\" onclick=\"quickchart('df-691d6321-4f19-4ab4-a8c3-120405d7ea62')\"\n",
              "                title=\"Suggest charts\"\n",
              "                style=\"display:none;\">\n",
              "\n",
              "<svg xmlns=\"http://www.w3.org/2000/svg\" height=\"24px\"viewBox=\"0 0 24 24\"\n",
              "     width=\"24px\">\n",
              "    <g>\n",
              "        <path d=\"M19 3H5c-1.1 0-2 .9-2 2v14c0 1.1.9 2 2 2h14c1.1 0 2-.9 2-2V5c0-1.1-.9-2-2-2zM9 17H7v-7h2v7zm4 0h-2V7h2v10zm4 0h-2v-4h2v4z\"/>\n",
              "    </g>\n",
              "</svg>\n",
              "      </button>\n",
              "\n",
              "<style>\n",
              "  .colab-df-quickchart {\n",
              "      --bg-color: #E8F0FE;\n",
              "      --fill-color: #1967D2;\n",
              "      --hover-bg-color: #E2EBFA;\n",
              "      --hover-fill-color: #174EA6;\n",
              "      --disabled-fill-color: #AAA;\n",
              "      --disabled-bg-color: #DDD;\n",
              "  }\n",
              "\n",
              "  [theme=dark] .colab-df-quickchart {\n",
              "      --bg-color: #3B4455;\n",
              "      --fill-color: #D2E3FC;\n",
              "      --hover-bg-color: #434B5C;\n",
              "      --hover-fill-color: #FFFFFF;\n",
              "      --disabled-bg-color: #3B4455;\n",
              "      --disabled-fill-color: #666;\n",
              "  }\n",
              "\n",
              "  .colab-df-quickchart {\n",
              "    background-color: var(--bg-color);\n",
              "    border: none;\n",
              "    border-radius: 50%;\n",
              "    cursor: pointer;\n",
              "    display: none;\n",
              "    fill: var(--fill-color);\n",
              "    height: 32px;\n",
              "    padding: 0;\n",
              "    width: 32px;\n",
              "  }\n",
              "\n",
              "  .colab-df-quickchart:hover {\n",
              "    background-color: var(--hover-bg-color);\n",
              "    box-shadow: 0 1px 2px rgba(60, 64, 67, 0.3), 0 1px 3px 1px rgba(60, 64, 67, 0.15);\n",
              "    fill: var(--button-hover-fill-color);\n",
              "  }\n",
              "\n",
              "  .colab-df-quickchart-complete:disabled,\n",
              "  .colab-df-quickchart-complete:disabled:hover {\n",
              "    background-color: var(--disabled-bg-color);\n",
              "    fill: var(--disabled-fill-color);\n",
              "    box-shadow: none;\n",
              "  }\n",
              "\n",
              "  .colab-df-spinner {\n",
              "    border: 2px solid var(--fill-color);\n",
              "    border-color: transparent;\n",
              "    border-bottom-color: var(--fill-color);\n",
              "    animation:\n",
              "      spin 1s steps(1) infinite;\n",
              "  }\n",
              "\n",
              "  @keyframes spin {\n",
              "    0% {\n",
              "      border-color: transparent;\n",
              "      border-bottom-color: var(--fill-color);\n",
              "      border-left-color: var(--fill-color);\n",
              "    }\n",
              "    20% {\n",
              "      border-color: transparent;\n",
              "      border-left-color: var(--fill-color);\n",
              "      border-top-color: var(--fill-color);\n",
              "    }\n",
              "    30% {\n",
              "      border-color: transparent;\n",
              "      border-left-color: var(--fill-color);\n",
              "      border-top-color: var(--fill-color);\n",
              "      border-right-color: var(--fill-color);\n",
              "    }\n",
              "    40% {\n",
              "      border-color: transparent;\n",
              "      border-right-color: var(--fill-color);\n",
              "      border-top-color: var(--fill-color);\n",
              "    }\n",
              "    60% {\n",
              "      border-color: transparent;\n",
              "      border-right-color: var(--fill-color);\n",
              "    }\n",
              "    80% {\n",
              "      border-color: transparent;\n",
              "      border-right-color: var(--fill-color);\n",
              "      border-bottom-color: var(--fill-color);\n",
              "    }\n",
              "    90% {\n",
              "      border-color: transparent;\n",
              "      border-bottom-color: var(--fill-color);\n",
              "    }\n",
              "  }\n",
              "</style>\n",
              "\n",
              "      <script>\n",
              "        async function quickchart(key) {\n",
              "          const quickchartButtonEl =\n",
              "            document.querySelector('#' + key + ' button');\n",
              "          quickchartButtonEl.disabled = true;  // To prevent multiple clicks.\n",
              "          quickchartButtonEl.classList.add('colab-df-spinner');\n",
              "          try {\n",
              "            const charts = await google.colab.kernel.invokeFunction(\n",
              "                'suggestCharts', [key], {});\n",
              "          } catch (error) {\n",
              "            console.error('Error during call to suggestCharts:', error);\n",
              "          }\n",
              "          quickchartButtonEl.classList.remove('colab-df-spinner');\n",
              "          quickchartButtonEl.classList.add('colab-df-quickchart-complete');\n",
              "        }\n",
              "        (() => {\n",
              "          let quickchartButtonEl =\n",
              "            document.querySelector('#df-691d6321-4f19-4ab4-a8c3-120405d7ea62 button');\n",
              "          quickchartButtonEl.style.display =\n",
              "            google.colab.kernel.accessAllowed ? 'block' : 'none';\n",
              "        })();\n",
              "      </script>\n",
              "    </div>\n",
              "\n",
              "    </div>\n",
              "  </div>\n"
            ],
            "text/plain": [
              "   user_id  click group            timestamp\n",
              "0        1      1   exp  2024-01-01 00:00:00\n",
              "1        2      0   exp  2024-01-01 00:01:00\n",
              "2        3      1   exp  2024-01-01 00:02:00\n",
              "3        4      0   exp  2024-01-01 00:03:00\n",
              "4        5      1   exp  2024-01-01 00:04:00"
            ]
          },
          "execution_count": 15,
          "metadata": {},
          "output_type": "execute_result"
        }
      ],
      "source": [
        "# Display The First Few Rows Of The DataFrame\n",
        "df_ab_test.head()"
      ]
    },
    {
      "cell_type": "code",
      "execution_count": 20,
      "metadata": {
        "colab": {
          "base_uri": "https://localhost:8080/",
          "height": 607
        },
        "id": "AXBSIPr2WcVi",
        "outputId": "f1cd6ef8-3007-4fc8-f19d-22b15c40faff"
      },
      "outputs": [
        {
          "data": {
            "image/png": "[encoded data removed]",
            "text/plain": [
              "<Figure size 1000x600 with 1 Axes>"
            ]
          },
          "metadata": {},
          "output_type": "display_data"
        }
      ],
      "source": [
        "# Custom Palette For Yellow And Black\n",
        "palette = {0: \"red\", 1:\"green\"} # Assuming 0 is for no-click, 1 for click\n",
        "\n",
        "# Plotting the click distribution for each group with the custom colors\n",
        "plt. figure(figsize=(10, 6))\n",
        "ax = sns.countplot(x='group', hue='click', data=df_ab_test, palette=palette)\n",
        "plt.title( 'Click Distribution in Experimental and Control Groups')\n",
        "plt.xlabel ( 'Group')\n",
        "plt.ylabel ('Count' )\n",
        "plt.legend(title='Click', labels=['No', 'Yes'])\n",
        "\n",
        "# Calculate une percentades and annotate the bars\n",
        "group_counts = df_ab_test.groupby(['group']).size()\n",
        "group_click_counts = df_ab_test.groupby(['group','click']).size().reset_index(name='count')\n",
        "for p in ax.patches:\n",
        "  height = p.get_height()\n",
        "  #rand the group and click type or the current bar\n",
        "  group = 'exp' if p.get_x() < 0.5 else 'con'\n",
        "  Click = 1 if p.get_x() % 1 > 0.5 else 0\n",
        "  total = group_counts.loc[group]\n",
        "  percentage = 100 * height / total\n",
        "  ax.text(p.get_x() + p.get_width() / 2., height + 40, f'{percentage:.1f}%', ha=\"center\", color='black', fontsize=10)\n",
        "\n",
        "plt.tight_layout ()\n",
        "plt.show()"
      ]
    },
    {
      "cell_type": "markdown",
      "metadata": {
        "id": "2e3Vw34UYN5Y"
      },
      "source": [
        "**Parameters of the Model from Power Analysis**\n",
        "\n",
        "- $\\beta$: Probability of Type II Error  \n",
        "- $(1 - \\beta)$: Power of the test  \n",
        "- $\\alpha$: Probability of Type I Error, Significance Level  \n",
        "- $\\delta$: Minimum Detectable Effect"
      ]
    },
    {
      "cell_type": "code",
      "execution_count": 22,
      "metadata": {
        "colab": {
          "base_uri": "https://localhost:8080/"
        },
        "id": "nN4yXJd-Wo1r",
        "outputId": "f0040b28-5440-4ddc-9c9c-0fc689f823c9"
      },
      "outputs": [
        {
          "name": "stdout",
          "output_type": "stream",
          "text": [
            "Alpha: significance level is: 0.05\n",
            "Delta: Minimum Detectable Effect is: 0.1\n"
          ]
        }
      ],
      "source": [
        "# Statistical significance level of the test\n",
        "alpha = 0.05 # 5%\n",
        "print(\"Alpha: significance level is:\", alpha )\n",
        "\n",
        "# Minimum Detectable Effect\n",
        "delta = 0.1 # 10%\n",
        "print(\"Delta: Minimum Detectable Effect is:\", delta )"
      ]
    },
    {
      "cell_type": "code",
      "execution_count": 41,
      "metadata": {
        "colab": {
          "base_uri": "https://localhost:8080/"
        },
        "id": "Rw3a6xa4Yn0o",
        "outputId": "f0b4be96-a1f8-4162-9498-62613f5e498a"
      },
      "outputs": [
        {
          "name": "stdout",
          "output_type": "stream",
          "text": [
            "Number of CLicks in Control:  1989\n",
            "Number of CLicks in Experimental:  6116\n"
          ]
        }
      ],
      "source": [
        "# Calculating the total number of clicks per group by summing 1's\n",
        "X_con = df_ab_test.groupby(\"group\")[\"click\"].sum().loc[\"con\"]\n",
        "X_exp = df_ab_test.groupby(\"group\")[\"click\"].sum().loc[\"exp\"]\n",
        "\n",
        "# Printing this for visibility\n",
        "print(\"Number of CLicks in Control: \", X_con)\n",
        "print(\"Number of CLicks in Experimental: \", X_exp)"
      ]
    },
    {
      "cell_type": "markdown",
      "metadata": {
        "id": "PDWxbD3JbLJX"
      },
      "source": [
        "$$\n",
        "\\hat{p}_{con} = \\frac{X_{con}}{N_{con}} = \\frac{\\#clicks_{con}}{\\#impressions_{con}}\n",
        "$$\n",
        "\n",
        "$$\n",
        "\\hat{p}_{exp} = \\frac{X_{exp}}{N_{exp}} = \\frac{\\#clicks_{exp}}{\\#impressions_{exp}}\n",
        "$$\n",
        "\n",
        "**Where:**\n",
        "- $\\hat{p}_{con}$: Estimated proportion for control group\n",
        "- $\\hat{p}_{exp}$: Estimated proportion for experimental group\n",
        "- $\\#clicks$: Number of clicks\n",
        "- $\\#impressions$: Number of impressions"
      ]
    },
    {
      "cell_type": "code",
      "execution_count": 43,
      "metadata": {
        "colab": {
          "base_uri": "https://localhost:8080/"
        },
        "id": "iyy3AdHDZHiL",
        "outputId": "42767655-7ee4-44da-bd60-fd47a51280d5"
      },
      "outputs": [
        {
          "name": "stdout",
          "output_type": "stream",
          "text": [
            "Click Probability in Control Group: 0.1989\n",
            "Click Probability in Experimental Group: 0.6116\n"
          ]
        }
      ],
      "source": [
        "# Computing the estimate of click probability per group\n",
        "N_con = df_ab_test.groupby(['group']).size().loc[\"con\"]\n",
        "N_exp = df_ab_test.groupby(['group']).size().loc[\"exp\"]\n",
        "p_con_hat = X_con/N_con\n",
        "p_exp_hat = X_exp/N_exp\n",
        "print(\"Click Probability in Control Group:\", p_con_hat)\n",
        "print(\"Click Probability in Experimental Group:\", p_exp_hat)"
      ]
    },
    {
      "cell_type": "markdown",
      "metadata": {
        "id": "jDJeHmKXbwVS"
      },
      "source": [
        "$$\n",
        "\\hat{p}_{pooled} = \\frac{X_{con} + X_{exp}}{N_{con} + N_{exp}} = \\frac{\\#clicks_{con} + \\#clicks_{exp}}{\\#impressions_{con} + \\#impressions_{exp}}\n",
        "$$\n",
        "\n",
        "$$\n",
        "s^2_{pooled} = \\hat{p}_{pooled}(1 - \\hat{p}_{pooled}) \\times \\left(\\frac{1}{N_{con}} + \\frac{1}{N_{exp}}\\right)\n",
        "$$"
      ]
    },
    {
      "cell_type": "code",
      "execution_count": 45,
      "metadata": {
        "colab": {
          "base_uri": "https://localhost:8080/"
        },
        "id": "Sw1a-oFWaKyO",
        "outputId": "b8cb8063-496a-4a6c-fea0-70ebea772b9b"
      },
      "outputs": [
        {
          "name": "stdout",
          "output_type": "stream",
          "text": [
            "p^_pooled is:  0.40525\n",
            "pooled_variance is:  4.82044875e-05\n"
          ]
        }
      ],
      "source": [
        "# Computing the estimate of pooled clicked probability\n",
        "p_pooled_hat = (X_con+X_exp)/(N_con + N_exp)\n",
        "\n",
        "# Computing the estimate of pooled variance\n",
        "pooled_variance = p_pooled_hat * (1-p_pooled_hat) * (1/N_con + 1/N_exp)\n",
        "print(\"p^_pooled is: \", p_pooled_hat)\n",
        "print(\"pooled_variance is: \", pooled_variance)"
      ]
    },
    {
      "cell_type": "markdown",
      "metadata": {
        "id": "MPEQ42NBdUGw"
      },
      "source": [
        "## Two-Sample Z-Test Formulas\n",
        "\n",
        "### 1. Standard Error\n",
        "$$\n",
        "SE = \\sqrt{\\hat{p}_{pooled}(1 - \\hat{p}_{pooled}) \\cdot \\left(\\frac{1}{N_{con}} + \\frac{1}{N_{exp}}\\right)}\n",
        "$$\n",
        "\n",
        "### 2. Test Statistic\n",
        "$$\n",
        "Z = \\frac{\\hat{p}_{con} - \\hat{p}_{exp}}{SE}\n",
        "$$\n",
        "\n",
        "### 3. Critical Value\n",
        "$$\n",
        "Z_{\\text{critical}} = \\Phi^{-1}\\left(1 - \\frac{\\alpha}{2}\\right)\n",
        "$$\n",
        "\n",
        "where:\n",
        "- $Z_{\\text{critical}}$ = Critical value from standard normal distribution\n",
        "- $\\Phi^{-1}$ = Inverse cumulative distribution function (ppf)\n",
        "- $\\alpha$ = Significance level\n",
        "\n",
        "### 4. Decision Rule:\n",
        "- If $|Z| > Z_{\\text{critical}}$, reject $H_0$\n",
        "- If $|Z| \\leq Z_{\\text{critical}}$, fail to reject $H_0$"
      ]
    },
    {
      "cell_type": "code",
      "execution_count": 47,
      "metadata": {
        "colab": {
          "base_uri": "https://localhost:8080/"
        },
        "id": "_XDDjAIGbhok",
        "outputId": "680d0ee9-7bee-4fac-a44d-9324b0bd7bd7"
      },
      "outputs": [
        {
          "name": "stdout",
          "output_type": "stream",
          "text": [
            "Standard Error is:  0.006942945160376826\n",
            "Test Statistics for 2-sample Z-test is: -59.44163326469381\n",
            "Z-critical value from Standard Normal distribution:  1.959963984540054\n"
          ]
        }
      ],
      "source": [
        "# Computing the standard error of the test\n",
        "SE = np.sqrt(pooled_variance)\n",
        "print(\"Standard Error is: \", SE)\n",
        "\n",
        "# Computing the test statistics of Z-test\n",
        "Test_stat = (p_con_hat - p_exp_hat)/SE\n",
        "print(\"Test Statistics for 2-sample Z-test is:\", Test_stat)\n",
        "\n",
        "# Critical value of the Z-test\n",
        "Z_crit = norm.ppf(1-alpha/2)\n",
        "print(\"Z-critical value from Standard Normal distribution: \", Z_crit)"
      ]
    },
    {
      "cell_type": "markdown",
      "metadata": {
        "id": "qVUbroKLdqpL"
      },
      "source": [
        "$$\n",
        "p\\text{-value} = 2 \\times [1 - \\Phi(|Z_{test}|)]\n",
        "$$\n",
        "\n",
        "where:\n",
        "- $\\Phi$ = Cumulative distribution function of standard normal"
      ]
    },
    {
      "cell_type": "code",
      "execution_count": 51,
      "metadata": {
        "colab": {
          "base_uri": "https://localhost:8080/"
        },
        "id": "MqGxL-07cMpE",
        "outputId": "edc34dce-497d-4bbb-818e-6cc8508ad6a6"
      },
      "outputs": [
        {
          "name": "stdout",
          "output_type": "stream",
          "text": [
            "P-value of the 2-sample Z-test:  0.0\n"
          ]
        }
      ],
      "source": [
        "# Calculating p value\n",
        "p_value = 2 * norm.sf(abs(Test_stat))\n",
        "print(\"P-value of the 2-sample Z-test: \",round(p_value,3))"
      ]
    },
    {
      "cell_type": "code",
      "execution_count": 54,
      "metadata": {
        "colab": {
          "base_uri": "https://localhost:8080/"
        },
        "id": "EpHbmz4Xc422",
        "outputId": "8a2d70fa-6916-4502-8d01-630b53c585e8"
      },
      "outputs": [
        {
          "name": "stdout",
          "output_type": "stream",
          "text": [
            "P-value of the test: 0.0\n",
            "The result is statistically significant, suggesting that the observed differences between groups are unlikely due to chance.\n"
          ]
        }
      ],
      "source": [
        "# Function to check statistical significance\n",
        "def is_statistical_significance(p_value, alpha=0.05):\n",
        "    \"\"\"\n",
        "    Assess whether there is statistical significance based on the p-value and alpha.\n",
        "\n",
        "    Arguments:\n",
        "      - p_value (float): The p-value resulting from a statistical test.\n",
        "      - alpha (float, optional): The significance level threshold used to determine statistical significance.\n",
        "                                 Defaults to 0.05.\n",
        "\n",
        "    Returns:\n",
        "      - None. Prints the assessment of statistical significance.\n",
        "    \"\"\"\n",
        "\n",
        "    # Print the rounded p-value to 3 decimal places\n",
        "    print(f\"P-value of the test: {round(p_value, 3)}\")\n",
        "\n",
        "    # Determine statistical significance\n",
        "    if p_value <= alpha:\n",
        "        print(\"The result is statistically significant, suggesting that the observed differences between groups are unlikely due to chance.\")\n",
        "    else:\n",
        "        print(\"The result is not statistically significant, indicating that the observed differences could be explained by random variation.\")\n",
        "is_statistical_significance(p_value, alpha=0.05)"
      ]
    },
    {
      "cell_type": "code",
      "execution_count": 58,
      "metadata": {
        "colab": {
          "base_uri": "https://localhost:8080/",
          "height": 493
        },
        "id": "kvSwwZ0Agq_V",
        "outputId": "c6892f27-ffd8-48b0-de45-eef8ffd201df"
      },
      "outputs": [
        {
          "data": {
            "image/png": "[encoded data removed]",
            "text/plain": [
              "<Figure size 640x480 with 1 Axes>"
            ]
          },
          "metadata": {},
          "output_type": "display_data"
        }
      ],
      "source": [
        "# Parameters for the standard normal distribution\n",
        "mu = 0  # Mean\n",
        "sigma = 1  # Standard deviation\n",
        "x = np.linspace(mu - 3*sigma, mu + 3*sigma, 100)\n",
        "y = norm.pdf(x, mu, sigma)\n",
        "\n",
        "# Plotting the standard normal distribution\n",
        "plt.plot(x, y, label='Standard Normal Distribution')\n",
        "\n",
        "# Shade the rejection region for a two-tailed test\n",
        "plt.fill_between(x, y, where=(x > Z_crit) | (x < -Z_crit), color='red', alpha=0.5, label='Rejection Region')\n",
        "\n",
        "# Adding Test Statistic\n",
        "plt.axvline(Test_stat, color='green', linestyle='dashed', linewidth=2, label=f'Test Statistic = {Test_stat:.2f}')\n",
        "\n",
        "# Adding Z-critical values\n",
        "plt.axvline(Z_crit, color='blue', linestyle='dashed', linewidth=1, label=f'Z-critical = {Z_crit:.2f}')\n",
        "plt.axvline(-Z_crit, color='blue', linestyle='dashed', linewidth=1)\n",
        "\n",
        "# Adding labels and title\n",
        "plt.xlabel('Z-value')\n",
        "plt.ylabel('Probability Density')\n",
        "plt.title('Gaussian Distribution with Rejection Region \\n (A/B Testing for LunarTech CTA button)')\n",
        "plt.legend()\n",
        "\n",
        "# Show plot\n",
        "plt.show()"
      ]
    },
    {
      "cell_type": "markdown",
      "metadata": {
        "id": "usRfxnL9hC5Y"
      },
      "source": [
        "$$\n",
        "CI = \\left[(\\hat{p}_{exp} - \\hat{p}_{con}) - SE \\times Z_{\\text{critical}},\\ (\\hat{p}_{exp} - \\hat{p}_{con}) + SE \\times Z_{\\text{critical}}\\right]\n",
        "$$\n",
        "\n",
        "where:\n",
        "- $\\hat{p}_{exp} - \\hat{p}_{con}$ = Observed difference in proportions\n",
        "- $SE$ = Standard Error\n",
        "- $Z_{\\text{critical}}$ = Critical value from standard normal distribution"
      ]
    },
    {
      "cell_type": "code",
      "execution_count": 61,
      "metadata": {
        "colab": {
          "base_uri": "https://localhost:8080/"
        },
        "id": "t6dVC3cXgHEA",
        "outputId": "5977c5c6-e391-4745-a9a6-b95abd08c20d"
      },
      "outputs": [
        {
          "name": "stdout",
          "output_type": "stream",
          "text": [
            "Confidence Interval of the 2 sample Z-test is:  [np.float64(0.399), np.float64(0.426)]\n"
          ]
        }
      ],
      "source": [
        "# Confidence Interval of the 2 sample Z-test\n",
        "CI = [round((p_exp_hat - p_con_hat) - SE*Z_crit,3), round((p_exp_hat - p_con_hat) + SE*Z_crit,3)]\n",
        "print(\"Confidence Interval of the 2 sample Z-test is: \", CI)"
      ]
    }
  ],
  "metadata": {
    "colab": {
      "provenance": []
    },
    "kernelspec": {
      "display_name": "Python 3",
      "name": "python3"
    },
    "language_info": {
      "name": "python"
    }
  },
  "nbformat": 4,
  "nbformat_minor": 0
}
